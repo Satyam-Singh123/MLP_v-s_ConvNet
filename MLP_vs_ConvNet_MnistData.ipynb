{
  "nbformat": 4,
  "nbformat_minor": 0,
  "metadata": {
    "colab": {
      "name": "MLP_vs_ConvNet_MnistData.ipynb",
      "provenance": [],
      "collapsed_sections": []
    },
    "kernelspec": {
      "name": "python3",
      "display_name": "Python 3"
    }
  },
  "cells": [
    {
      "cell_type": "markdown",
      "metadata": {
        "id": "maxJoRGjCeSb",
        "colab_type": "text"
      },
      "source": [
        "### ***DESCRIPTION***\n",
        "\n",
        "---\n",
        "\n",
        "MNIST DATASET: INCLUDE HANDWRITTEN IMAGES OF NUMBERS 0 TO 9.\n",
        "\n",
        "TOTAL SAMPLES: 70000\n",
        "\n",
        "TRAIN SAMPLES: 60000\n",
        "\n",
        "TEST SAMPLES:  10000\n",
        "\n",
        "**[OBJECTIVE](https://)**\n",
        "\n",
        "CLASSIFY IMAGES INTO SPECIFIC CLASS USING SINGLE LAYER PERCEPTRON\n"
      ]
    },
    {
      "cell_type": "markdown",
      "metadata": {
        "id": "25QlCMCFDr2U",
        "colab_type": "text"
      },
      "source": [
        "### ***QUESTION 01***\n",
        "\n",
        "---\n",
        "A. LOAD MNIST DATA FROM KERAS LIBRARY. SPLIT THE SAME AS TRAIN - TEST\n",
        "\n",
        "B. SCALE THE VALUE 0 TO 1\n"
      ]
    },
    {
      "cell_type": "code",
      "metadata": {
        "id": "qpe6-ifOEfUQ",
        "colab_type": "code",
        "colab": {}
      },
      "source": [
        "%tensorflow_version 1.x\n",
        "import tensorflow as tf"
      ],
      "execution_count": 0,
      "outputs": []
    },
    {
      "cell_type": "code",
      "metadata": {
        "id": "BdrSPsBHCPWd",
        "colab_type": "code",
        "colab": {}
      },
      "source": [
        "from tensorflow.keras.datasets import mnist"
      ],
      "execution_count": 0,
      "outputs": []
    },
    {
      "cell_type": "code",
      "metadata": {
        "id": "CumvH0Q9Exem",
        "colab_type": "code",
        "colab": {}
      },
      "source": [
        "(x_train, y_train), (x_test, y_test) = mnist.load_data()\n",
        "\n",
        "x_train= x_train/255.0\n",
        "x_test= x_test/255.0"
      ],
      "execution_count": 0,
      "outputs": []
    },
    {
      "cell_type": "code",
      "metadata": {
        "id": "Euwq2ixAFepo",
        "colab_type": "code",
        "colab": {}
      },
      "source": [
        "#x_train[0]"
      ],
      "execution_count": 0,
      "outputs": []
    },
    {
      "cell_type": "markdown",
      "metadata": {
        "id": "h-qzBMr3Fuwv",
        "colab_type": "text"
      },
      "source": [
        "### ***QUESTION 02***\n",
        "\n",
        "---\n",
        "A. DISPLAY FIRST 25 LABELS FROM TRAINING DATASET AND ALSO DISPLAY LABELS ALONG WITH THEM.\n"
      ]
    },
    {
      "cell_type": "code",
      "metadata": {
        "id": "g3aubBFaGCpy",
        "colab_type": "code",
        "outputId": "e43e8daf-a1f0-487c-ef92-404e390e555f",
        "colab": {
          "base_uri": "https://localhost:8080/",
          "height": 34
        }
      },
      "source": [
        "from keras.preprocessing import image\n",
        "import matplotlib.pyplot as plt\n",
        "%matplotlib inline"
      ],
      "execution_count": 0,
      "outputs": [
        {
          "output_type": "stream",
          "text": [
            "Using TensorFlow backend.\n"
          ],
          "name": "stderr"
        }
      ]
    },
    {
      "cell_type": "code",
      "metadata": {
        "id": "HjXkUvKKHiUH",
        "colab_type": "code",
        "outputId": "7cd4d420-0ccb-4a7d-9c76-f336d9bb1438",
        "colab": {
          "base_uri": "https://localhost:8080/",
          "height": 264
        }
      },
      "source": [
        "fig, axs = plt.subplots(5,5)\n",
        "plt.subplots_adjust(hspace=0.5)\n",
        "for i in range(5):\n",
        "    for j in range(5):\n",
        "        axs[i,j].imshow(x_train[i+j], label = str(y_train[i+j]))\n",
        "        axs[i,j].axis(False)\n",
        "        axs[i,j].set_title(str(y_train[i+j]), color = 'red')       "
      ],
      "execution_count": 0,
      "outputs": [
        {
          "output_type": "display_data",
          "data": {
            "image/png": "[encoded data removed]",
            "text/plain": [
              "<Figure size 432x288 with 25 Axes>"
            ]
          },
          "metadata": {
            "tags": []
          }
        }
      ]
    },
    {
      "cell_type": "markdown",
      "metadata": {
        "id": "t60EaoycM3Px",
        "colab_type": "text"
      },
      "source": [
        "### ***QUESTION 03***\n",
        "\n",
        "---\n",
        "A. LOAD AND RESHAPE THE DATA.\n"
      ]
    },
    {
      "cell_type": "code",
      "metadata": {
        "id": "IsMdqXlXTfIz",
        "colab_type": "code",
        "colab": {}
      },
      "source": [
        "(x_train, y_train), (x_test, y_test) = mnist.load_data() \n",
        "#Normalize\n",
        "x_train = x_train/255.0\n",
        "x_test =  x_test/255.0"
      ],
      "execution_count": 0,
      "outputs": []
    },
    {
      "cell_type": "code",
      "metadata": {
        "id": "yb2T1QulNAB2",
        "colab_type": "code",
        "outputId": "b6c090c0-b033-4da4-e082-065f27915481",
        "colab": {
          "base_uri": "https://localhost:8080/",
          "height": 50
        }
      },
      "source": [
        "print('ORIGINAL SHAPE OF THE DATA: ', x_train.shape)\n",
        "x_train = x_train.reshape(-1,784)\n",
        "x_test = x_test.reshape(-1,784)\n",
        "print('AFTER RESHAPING THE DATA: ', x_train.shape) "
      ],
      "execution_count": 0,
      "outputs": [
        {
          "output_type": "stream",
          "text": [
            "ORIGINAL SHAPE OF THE DATA:  (60000, 28, 28)\n",
            "AFTER RESHAPING THE DATA:  (60000, 784)\n"
          ],
          "name": "stdout"
        }
      ]
    },
    {
      "cell_type": "markdown",
      "metadata": {
        "id": "qfNLWG8SNv7i",
        "colab_type": "text"
      },
      "source": [
        "B. PRINT LABEL OF FIRST IMAGE BEFORE AND AFTER CONVERTING TO THE CATEGORICAL"
      ]
    },
    {
      "cell_type": "code",
      "metadata": {
        "id": "IUjdKzUmN6e2",
        "colab_type": "code",
        "outputId": "ee8ac87c-0dc9-4fb4-f1b9-fccba0b7d28b",
        "colab": {
          "base_uri": "https://localhost:8080/",
          "height": 50
        }
      },
      "source": [
        "print('ORIGINAL FIRST LABEL: ', y_train[0])\n",
        "y_train= tf.keras.utils.to_categorical(y_train, num_classes=10)\n",
        "y_test= tf.keras.utils.to_categorical(y_test, num_classes=10)\n",
        "print('FIRST LABEL AFTER CATEGORICAL: ', y_train[0])"
      ],
      "execution_count": 0,
      "outputs": [
        {
          "output_type": "stream",
          "text": [
            "ORIGINAL FIRST LABEL:  5\n",
            "FIRST LABEL AFTER CATEGORICAL:  [0. 0. 0. 0. 0. 1. 0. 0. 0. 0.]\n"
          ],
          "name": "stdout"
        }
      ]
    },
    {
      "cell_type": "markdown",
      "metadata": {
        "id": "I9jFyY4TTrD-",
        "colab_type": "text"
      },
      "source": [
        "### ***QUESTION 04***\n",
        "\n",
        "---\n",
        "A. BUILD BASIC SINGLE LAYER PERCEPTRON ON THE MNIST DATA.\n",
        "\n",
        "1. Single Dense 1024 Neurons\n",
        "2. Input Shape Being 784 Activation Function Relu.\n",
        "3. Softmax Layer With 10 Neuron As Output\n"
      ]
    },
    {
      "cell_type": "code",
      "metadata": {
        "id": "zV4aqSIbOkMq",
        "colab_type": "code",
        "colab": {}
      },
      "source": [
        "from keras.models import Sequential\n",
        "from keras.layers import Dense, Dropout, InputLayer, Activation"
      ],
      "execution_count": 0,
      "outputs": []
    },
    {
      "cell_type": "code",
      "metadata": {
        "id": "wPaRJ24aiUp5",
        "colab_type": "code",
        "outputId": "ba135789-c924-4ec7-c6d5-794d6328d649",
        "colab": {
          "base_uri": "https://localhost:8080/",
          "height": 339
        }
      },
      "source": [
        "slp_model = Sequential()\n",
        "slp_model.add(InputLayer(input_shape= [784]))\n",
        "slp_model.add(Dense(1024,activation= 'relu'))\n",
        "slp_model.add(Dense(10, activation= 'softmax'))\n",
        "slp_model.summary() "
      ],
      "execution_count": 0,
      "outputs": [
        {
          "output_type": "stream",
          "text": [
            "WARNING:tensorflow:From /usr/local/lib/python3.6/dist-packages/keras/backend/tensorflow_backend.py:66: The name tf.get_default_graph is deprecated. Please use tf.compat.v1.get_default_graph instead.\n",
            "\n",
            "WARNING:tensorflow:From /usr/local/lib/python3.6/dist-packages/keras/backend/tensorflow_backend.py:541: The name tf.placeholder is deprecated. Please use tf.compat.v1.placeholder instead.\n",
            "\n",
            "WARNING:tensorflow:From /usr/local/lib/python3.6/dist-packages/keras/backend/tensorflow_backend.py:4432: The name tf.random_uniform is deprecated. Please use tf.random.uniform instead.\n",
            "\n",
            "Model: \"sequential_1\"\n",
            "_________________________________________________________________\n",
            "Layer (type)                 Output Shape              Param #   \n",
            "=================================================================\n",
            "dense_1 (Dense)              (None, 1024)              803840    \n",
            "_________________________________________________________________\n",
            "dense_2 (Dense)              (None, 10)                10250     \n",
            "=================================================================\n",
            "Total params: 814,090\n",
            "Trainable params: 814,090\n",
            "Non-trainable params: 0\n",
            "_________________________________________________________________\n"
          ],
          "name": "stdout"
        }
      ]
    },
    {
      "cell_type": "markdown",
      "metadata": {
        "id": "-8kIcOWCsgXP",
        "colab_type": "text"
      },
      "source": [
        "4. Loss- Categorical_Crossentropy\n",
        "5. Optimizer - RMSPROP"
      ]
    },
    {
      "cell_type": "code",
      "metadata": {
        "id": "x_FpSYSxscFF",
        "colab_type": "code",
        "outputId": "b5abd881-0e1c-4863-d492-6acd04174d13",
        "colab": {
          "base_uri": "https://localhost:8080/",
          "height": 104
        }
      },
      "source": [
        "slp_model.compile(optimizer = 'rmsprop', loss = 'categorical_crossentropy', \n",
        "              metrics = ['accuracy']) "
      ],
      "execution_count": 0,
      "outputs": [
        {
          "output_type": "stream",
          "text": [
            "WARNING:tensorflow:From /usr/local/lib/python3.6/dist-packages/keras/optimizers.py:793: The name tf.train.Optimizer is deprecated. Please use tf.compat.v1.train.Optimizer instead.\n",
            "\n",
            "WARNING:tensorflow:From /usr/local/lib/python3.6/dist-packages/keras/backend/tensorflow_backend.py:3576: The name tf.log is deprecated. Please use tf.math.log instead.\n",
            "\n"
          ],
          "name": "stdout"
        }
      ]
    },
    {
      "cell_type": "markdown",
      "metadata": {
        "id": "nXuuXGaFtQy9",
        "colab_type": "text"
      },
      "source": [
        "6. Batch_Size = 5000, Epochs=50\n"
      ]
    },
    {
      "cell_type": "code",
      "metadata": {
        "id": "CBCJL5KktQFL",
        "colab_type": "code",
        "outputId": "a3144ad8-5f9c-4989-f470-ddc21d7ed230",
        "colab": {
          "base_uri": "https://localhost:8080/",
          "height": 1000
        }
      },
      "source": [
        "slp_model.fit(x_train, y_train, batch_size = 5000, \n",
        "          epochs = 50, validation_data = (x_test, y_test))"
      ],
      "execution_count": 0,
      "outputs": [
        {
          "output_type": "stream",
          "text": [
            "WARNING:tensorflow:From /tensorflow-1.15.0/python3.6/tensorflow_core/python/ops/math_grad.py:1424: where (from tensorflow.python.ops.array_ops) is deprecated and will be removed in a future version.\n",
            "Instructions for updating:\n",
            "Use tf.where in 2.0, which has the same broadcast rule as np.where\n",
            "WARNING:tensorflow:From /usr/local/lib/python3.6/dist-packages/keras/backend/tensorflow_backend.py:1033: The name tf.assign_add is deprecated. Please use tf.compat.v1.assign_add instead.\n",
            "\n",
            "WARNING:tensorflow:From /usr/local/lib/python3.6/dist-packages/keras/backend/tensorflow_backend.py:1020: The name tf.assign is deprecated. Please use tf.compat.v1.assign instead.\n",
            "\n",
            "WARNING:tensorflow:From /usr/local/lib/python3.6/dist-packages/keras/backend/tensorflow_backend.py:3005: The name tf.Session is deprecated. Please use tf.compat.v1.Session instead.\n",
            "\n",
            "Train on 60000 samples, validate on 10000 samples\n",
            "Epoch 1/50\n",
            "WARNING:tensorflow:From /usr/local/lib/python3.6/dist-packages/keras/backend/tensorflow_backend.py:190: The name tf.get_default_session is deprecated. Please use tf.compat.v1.get_default_session instead.\n",
            "\n",
            "WARNING:tensorflow:From /usr/local/lib/python3.6/dist-packages/keras/backend/tensorflow_backend.py:197: The name tf.ConfigProto is deprecated. Please use tf.compat.v1.ConfigProto instead.\n",
            "\n",
            "WARNING:tensorflow:From /usr/local/lib/python3.6/dist-packages/keras/backend/tensorflow_backend.py:207: The name tf.global_variables is deprecated. Please use tf.compat.v1.global_variables instead.\n",
            "\n",
            "WARNING:tensorflow:From /usr/local/lib/python3.6/dist-packages/keras/backend/tensorflow_backend.py:216: The name tf.is_variable_initialized is deprecated. Please use tf.compat.v1.is_variable_initialized instead.\n",
            "\n",
            "WARNING:tensorflow:From /usr/local/lib/python3.6/dist-packages/keras/backend/tensorflow_backend.py:223: The name tf.variables_initializer is deprecated. Please use tf.compat.v1.variables_initializer instead.\n",
            "\n",
            "60000/60000 [==============================] - 4s 74us/step - loss: 0.9796 - acc: 0.7033 - val_loss: 0.5281 - val_acc: 0.8326\n",
            "Epoch 2/50\n",
            "60000/60000 [==============================] - 4s 70us/step - loss: 0.4384 - acc: 0.8733 - val_loss: 0.3811 - val_acc: 0.8819\n",
            "Epoch 3/50\n",
            "60000/60000 [==============================] - 4s 69us/step - loss: 0.3476 - acc: 0.9001 - val_loss: 0.3255 - val_acc: 0.9047\n",
            "Epoch 4/50\n",
            "60000/60000 [==============================] - 4s 70us/step - loss: 0.2989 - acc: 0.9126 - val_loss: 0.2485 - val_acc: 0.9289\n",
            "Epoch 5/50\n",
            "60000/60000 [==============================] - 4s 69us/step - loss: 0.2546 - acc: 0.9276 - val_loss: 0.2262 - val_acc: 0.9350\n",
            "Epoch 6/50\n",
            "60000/60000 [==============================] - 4s 70us/step - loss: 0.2282 - acc: 0.9342 - val_loss: 0.2093 - val_acc: 0.9379\n",
            "Epoch 7/50\n",
            "60000/60000 [==============================] - 4s 70us/step - loss: 0.2051 - acc: 0.9400 - val_loss: 0.2150 - val_acc: 0.9340\n",
            "Epoch 8/50\n",
            "60000/60000 [==============================] - 4s 70us/step - loss: 0.1845 - acc: 0.9468 - val_loss: 0.1592 - val_acc: 0.9539\n",
            "Epoch 9/50\n",
            "60000/60000 [==============================] - 4s 70us/step - loss: 0.1753 - acc: 0.9480 - val_loss: 0.1628 - val_acc: 0.9532\n",
            "Epoch 10/50\n",
            "60000/60000 [==============================] - 4s 70us/step - loss: 0.1518 - acc: 0.9565 - val_loss: 0.1450 - val_acc: 0.9573\n",
            "Epoch 11/50\n",
            "60000/60000 [==============================] - 4s 70us/step - loss: 0.1360 - acc: 0.9609 - val_loss: 0.1275 - val_acc: 0.9631\n",
            "Epoch 12/50\n",
            "60000/60000 [==============================] - 4s 70us/step - loss: 0.1367 - acc: 0.9593 - val_loss: 0.1244 - val_acc: 0.9638\n",
            "Epoch 13/50\n",
            "60000/60000 [==============================] - 4s 70us/step - loss: 0.1214 - acc: 0.9651 - val_loss: 0.1231 - val_acc: 0.9639\n",
            "Epoch 14/50\n",
            "60000/60000 [==============================] - 4s 70us/step - loss: 0.1082 - acc: 0.9688 - val_loss: 0.1257 - val_acc: 0.9633\n",
            "Epoch 15/50\n",
            "60000/60000 [==============================] - 4s 70us/step - loss: 0.1031 - acc: 0.9698 - val_loss: 0.1227 - val_acc: 0.9624\n",
            "Epoch 16/50\n",
            "60000/60000 [==============================] - 4s 70us/step - loss: 0.0954 - acc: 0.9722 - val_loss: 0.1127 - val_acc: 0.9666\n",
            "Epoch 17/50\n",
            "60000/60000 [==============================] - 4s 70us/step - loss: 0.0929 - acc: 0.9726 - val_loss: 0.1056 - val_acc: 0.9677\n",
            "Epoch 18/50\n",
            "60000/60000 [==============================] - 4s 70us/step - loss: 0.0801 - acc: 0.9770 - val_loss: 0.1191 - val_acc: 0.9632\n",
            "Epoch 19/50\n",
            "60000/60000 [==============================] - 4s 70us/step - loss: 0.0792 - acc: 0.9769 - val_loss: 0.0907 - val_acc: 0.9717\n",
            "Epoch 20/50\n",
            "60000/60000 [==============================] - 4s 70us/step - loss: 0.0769 - acc: 0.9778 - val_loss: 0.0841 - val_acc: 0.9746\n",
            "Epoch 21/50\n",
            "60000/60000 [==============================] - 4s 69us/step - loss: 0.0684 - acc: 0.9806 - val_loss: 0.0897 - val_acc: 0.9731\n",
            "Epoch 22/50\n",
            "60000/60000 [==============================] - 4s 70us/step - loss: 0.0603 - acc: 0.9832 - val_loss: 0.0819 - val_acc: 0.9756\n",
            "Epoch 23/50\n",
            "60000/60000 [==============================] - 4s 69us/step - loss: 0.0617 - acc: 0.9826 - val_loss: 0.0781 - val_acc: 0.9762\n",
            "Epoch 24/50\n",
            "60000/60000 [==============================] - 4s 69us/step - loss: 0.0579 - acc: 0.9829 - val_loss: 0.0840 - val_acc: 0.9744\n",
            "Epoch 25/50\n",
            "60000/60000 [==============================] - 4s 70us/step - loss: 0.0501 - acc: 0.9860 - val_loss: 0.0895 - val_acc: 0.9708\n",
            "Epoch 26/50\n",
            "60000/60000 [==============================] - 4s 69us/step - loss: 0.0460 - acc: 0.9877 - val_loss: 0.0859 - val_acc: 0.9731\n",
            "Epoch 27/50\n",
            "60000/60000 [==============================] - 4s 70us/step - loss: 0.0497 - acc: 0.9858 - val_loss: 0.0793 - val_acc: 0.9751\n",
            "Epoch 28/50\n",
            "60000/60000 [==============================] - 4s 70us/step - loss: 0.0435 - acc: 0.9882 - val_loss: 0.0794 - val_acc: 0.9757\n",
            "Epoch 29/50\n",
            "60000/60000 [==============================] - 4s 70us/step - loss: 0.0414 - acc: 0.9888 - val_loss: 0.0740 - val_acc: 0.9780\n",
            "Epoch 30/50\n",
            "60000/60000 [==============================] - 4s 70us/step - loss: 0.0378 - acc: 0.9896 - val_loss: 0.0725 - val_acc: 0.9776\n",
            "Epoch 31/50\n",
            "60000/60000 [==============================] - 4s 69us/step - loss: 0.0346 - acc: 0.9908 - val_loss: 0.0939 - val_acc: 0.9712\n",
            "Epoch 32/50\n",
            "60000/60000 [==============================] - 4s 70us/step - loss: 0.0361 - acc: 0.9901 - val_loss: 0.0702 - val_acc: 0.9780\n",
            "Epoch 33/50\n",
            "60000/60000 [==============================] - 4s 70us/step - loss: 0.0317 - acc: 0.9912 - val_loss: 0.0978 - val_acc: 0.9692\n",
            "Epoch 34/50\n",
            "60000/60000 [==============================] - 4s 69us/step - loss: 0.0328 - acc: 0.9906 - val_loss: 0.0659 - val_acc: 0.9803\n",
            "Epoch 35/50\n",
            "60000/60000 [==============================] - 4s 70us/step - loss: 0.0228 - acc: 0.9950 - val_loss: 0.0665 - val_acc: 0.9782\n",
            "Epoch 36/50\n",
            "60000/60000 [==============================] - 4s 69us/step - loss: 0.0338 - acc: 0.9907 - val_loss: 0.0664 - val_acc: 0.9796\n",
            "Epoch 37/50\n",
            "60000/60000 [==============================] - 4s 69us/step - loss: 0.0266 - acc: 0.9931 - val_loss: 0.0638 - val_acc: 0.9796\n",
            "Epoch 38/50\n",
            "60000/60000 [==============================] - 4s 74us/step - loss: 0.0222 - acc: 0.9948 - val_loss: 0.1138 - val_acc: 0.9638\n",
            "Epoch 39/50\n",
            "60000/60000 [==============================] - 5s 83us/step - loss: 0.0224 - acc: 0.9947 - val_loss: 0.0683 - val_acc: 0.9799\n",
            "Epoch 40/50\n",
            "60000/60000 [==============================] - 4s 72us/step - loss: 0.0241 - acc: 0.9937 - val_loss: 0.0617 - val_acc: 0.9813\n",
            "Epoch 41/50\n",
            "60000/60000 [==============================] - 4s 69us/step - loss: 0.0179 - acc: 0.9961 - val_loss: 0.0646 - val_acc: 0.9794\n",
            "Epoch 42/50\n",
            "60000/60000 [==============================] - 4s 70us/step - loss: 0.0213 - acc: 0.9949 - val_loss: 0.0653 - val_acc: 0.9794\n",
            "Epoch 43/50\n",
            "60000/60000 [==============================] - 4s 70us/step - loss: 0.0225 - acc: 0.9941 - val_loss: 0.0611 - val_acc: 0.9810\n",
            "Epoch 44/50\n",
            "60000/60000 [==============================] - 4s 69us/step - loss: 0.0125 - acc: 0.9980 - val_loss: 0.0648 - val_acc: 0.9798\n",
            "Epoch 45/50\n",
            "60000/60000 [==============================] - 4s 70us/step - loss: 0.0208 - acc: 0.9944 - val_loss: 0.0608 - val_acc: 0.9810\n",
            "Epoch 46/50\n",
            "60000/60000 [==============================] - 4s 69us/step - loss: 0.0118 - acc: 0.9980 - val_loss: 0.0702 - val_acc: 0.9785\n",
            "Epoch 47/50\n",
            "60000/60000 [==============================] - 4s 70us/step - loss: 0.0178 - acc: 0.9956 - val_loss: 0.0611 - val_acc: 0.9808\n",
            "Epoch 48/50\n",
            "60000/60000 [==============================] - 4s 69us/step - loss: 0.0201 - acc: 0.9949 - val_loss: 0.0736 - val_acc: 0.9771\n",
            "Epoch 49/50\n",
            "60000/60000 [==============================] - 4s 69us/step - loss: 0.0096 - acc: 0.9985 - val_loss: 0.0651 - val_acc: 0.9808\n",
            "Epoch 50/50\n",
            "60000/60000 [==============================] - 4s 70us/step - loss: 0.0173 - acc: 0.9952 - val_loss: 0.0603 - val_acc: 0.9816\n"
          ],
          "name": "stdout"
        },
        {
          "output_type": "execute_result",
          "data": {
            "text/plain": [
              "<keras.callbacks.History at 0x7f077c4f6630>"
            ]
          },
          "metadata": {
            "tags": []
          },
          "execution_count": 14
        }
      ]
    },
    {
      "cell_type": "code",
      "metadata": {
        "id": "AfWiQUsk7Sp1",
        "colab_type": "code",
        "colab": {}
      },
      "source": [
        "slp_model.save('slp.h5')"
      ],
      "execution_count": 0,
      "outputs": []
    },
    {
      "cell_type": "markdown",
      "metadata": {
        "id": "lJbJNMUlGKaT",
        "colab_type": "text"
      },
      "source": [
        "10. PRINT ACCURACY AND LOSS OF SLP MODEL"
      ]
    },
    {
      "cell_type": "code",
      "metadata": {
        "id": "HuvJhPAw7ZJP",
        "colab_type": "code",
        "outputId": "84905c40-a815-40e3-973e-d12e68678ffe",
        "colab": {
          "base_uri": "https://localhost:8080/",
          "height": 50
        }
      },
      "source": [
        "loss, accuracy = slp_model.evaluate(x_test, y_test, verbose= 0)\n",
        "print('Test Loss: ', loss)\n",
        "print('Test Accuracy: ', accuracy)"
      ],
      "execution_count": 0,
      "outputs": [
        {
          "output_type": "stream",
          "text": [
            "Test Loss:  0.06029947560108267\n",
            "Test Accuracy:  0.9816\n"
          ],
          "name": "stdout"
        }
      ]
    },
    {
      "cell_type": "markdown",
      "metadata": {
        "id": "SGBSpcWJHG0s",
        "colab_type": "text"
      },
      "source": [
        "### ***QUESTION 05***\n",
        "\n",
        "---\n",
        "1. Single dense layer 1024 neurons\n",
        "input shape being 784 activation function relu.\n",
        "2. Second Dense Layer 512 neurons and activation relu\n",
        "3. Third Dense Layer 512 Neurons and activation relu\n",
        "4. Softmax layer with 10 neurons as output"
      ]
    },
    {
      "cell_type": "code",
      "metadata": {
        "id": "cXsFg39RGdRP",
        "colab_type": "code",
        "outputId": "b6e75b54-a19d-4562-f32f-87045efc351b",
        "colab": {
          "base_uri": "https://localhost:8080/",
          "height": 286
        }
      },
      "source": [
        "mlp_model = Sequential()\n",
        "mlp_model.add(InputLayer(input_shape= [784]))\n",
        "mlp_model.add(Dense(1024,activation= 'relu')) #first dense layer\n",
        "mlp_model.add(Dense(512,activation= 'relu'))#second dense layer\n",
        "mlp_model.add(Dense(512,activation= 'relu'))#third dense layer\n",
        "mlp_model.add(Dense(10, activation= 'softmax'))\n",
        "mlp_model.summary() "
      ],
      "execution_count": 0,
      "outputs": [
        {
          "output_type": "stream",
          "text": [
            "Model: \"sequential_2\"\n",
            "_________________________________________________________________\n",
            "Layer (type)                 Output Shape              Param #   \n",
            "=================================================================\n",
            "dense_3 (Dense)              (None, 1024)              803840    \n",
            "_________________________________________________________________\n",
            "dense_4 (Dense)              (None, 512)               524800    \n",
            "_________________________________________________________________\n",
            "dense_5 (Dense)              (None, 512)               262656    \n",
            "_________________________________________________________________\n",
            "dense_6 (Dense)              (None, 10)                5130      \n",
            "=================================================================\n",
            "Total params: 1,596,426\n",
            "Trainable params: 1,596,426\n",
            "Non-trainable params: 0\n",
            "_________________________________________________________________\n"
          ],
          "name": "stdout"
        }
      ]
    },
    {
      "cell_type": "markdown",
      "metadata": {
        "id": "-ZILQpxzPDPm",
        "colab_type": "text"
      },
      "source": [
        "5. loss- categorical_crossentropy\n",
        "6. optimizer - adam"
      ]
    },
    {
      "cell_type": "code",
      "metadata": {
        "id": "ht7sjnQSPEZo",
        "colab_type": "code",
        "colab": {}
      },
      "source": [
        "mlp_model.compile(optimizer = 'adam', loss = 'categorical_crossentropy', \n",
        "                  metrics = ['accuracy'])"
      ],
      "execution_count": 0,
      "outputs": []
    },
    {
      "cell_type": "markdown",
      "metadata": {
        "id": "7dVSpgezP_MB",
        "colab_type": "text"
      },
      "source": [
        "7. batch_size = 5000, epochs=50\n",
        "8. Print the accuracy and loss of MLP model"
      ]
    },
    {
      "cell_type": "code",
      "metadata": {
        "id": "fPMrnWIhP-lO",
        "colab_type": "code",
        "outputId": "ddbb2f54-5058-4574-cbcd-6033961f7153",
        "colab": {
          "base_uri": "https://localhost:8080/",
          "height": 1000
        }
      },
      "source": [
        "mlp_model.fit(x_train, y_train, batch_size = 5000, \n",
        "          epochs = 50, validation_data = (x_test, y_test)) "
      ],
      "execution_count": 0,
      "outputs": [
        {
          "output_type": "stream",
          "text": [
            "Train on 60000 samples, validate on 10000 samples\n",
            "Epoch 1/50\n",
            "60000/60000 [==============================] - 9s 156us/step - loss: 0.9516 - acc: 0.7424 - val_loss: 0.3818 - val_acc: 0.8910\n",
            "Epoch 2/50\n",
            "60000/60000 [==============================] - 9s 150us/step - loss: 0.3105 - acc: 0.9113 - val_loss: 0.2370 - val_acc: 0.9310\n",
            "Epoch 3/50\n",
            "60000/60000 [==============================] - 9s 150us/step - loss: 0.2089 - acc: 0.9403 - val_loss: 0.1760 - val_acc: 0.9467\n",
            "Epoch 4/50\n",
            "60000/60000 [==============================] - 9s 151us/step - loss: 0.1567 - acc: 0.9543 - val_loss: 0.1398 - val_acc: 0.9584\n",
            "Epoch 5/50\n",
            "60000/60000 [==============================] - 9s 151us/step - loss: 0.1225 - acc: 0.9647 - val_loss: 0.1212 - val_acc: 0.9637\n",
            "Epoch 6/50\n",
            "60000/60000 [==============================] - 9s 152us/step - loss: 0.0986 - acc: 0.9714 - val_loss: 0.1011 - val_acc: 0.9689\n",
            "Epoch 7/50\n",
            "60000/60000 [==============================] - 9s 151us/step - loss: 0.0782 - acc: 0.9775 - val_loss: 0.0911 - val_acc: 0.9726\n",
            "Epoch 8/50\n",
            "60000/60000 [==============================] - 9s 151us/step - loss: 0.0645 - acc: 0.9816 - val_loss: 0.0835 - val_acc: 0.9738\n",
            "Epoch 9/50\n",
            "60000/60000 [==============================] - 9s 151us/step - loss: 0.0522 - acc: 0.9850 - val_loss: 0.0763 - val_acc: 0.9754\n",
            "Epoch 10/50\n",
            "60000/60000 [==============================] - 9s 151us/step - loss: 0.0433 - acc: 0.9874 - val_loss: 0.0709 - val_acc: 0.9775\n",
            "Epoch 11/50\n",
            "60000/60000 [==============================] - 9s 152us/step - loss: 0.0356 - acc: 0.9905 - val_loss: 0.0701 - val_acc: 0.9776\n",
            "Epoch 12/50\n",
            "60000/60000 [==============================] - 9s 151us/step - loss: 0.0312 - acc: 0.9915 - val_loss: 0.0662 - val_acc: 0.9791\n",
            "Epoch 13/50\n",
            "60000/60000 [==============================] - 9s 150us/step - loss: 0.0251 - acc: 0.9937 - val_loss: 0.0659 - val_acc: 0.9779\n",
            "Epoch 14/50\n",
            "60000/60000 [==============================] - 9s 150us/step - loss: 0.0204 - acc: 0.9951 - val_loss: 0.0657 - val_acc: 0.9789\n",
            "Epoch 15/50\n",
            "60000/60000 [==============================] - 9s 150us/step - loss: 0.0164 - acc: 0.9962 - val_loss: 0.0639 - val_acc: 0.9796\n",
            "Epoch 16/50\n",
            "60000/60000 [==============================] - 9s 150us/step - loss: 0.0127 - acc: 0.9978 - val_loss: 0.0618 - val_acc: 0.9800\n",
            "Epoch 17/50\n",
            "60000/60000 [==============================] - 9s 150us/step - loss: 0.0100 - acc: 0.9983 - val_loss: 0.0622 - val_acc: 0.9806\n",
            "Epoch 18/50\n",
            "60000/60000 [==============================] - 9s 150us/step - loss: 0.0080 - acc: 0.9989 - val_loss: 0.0646 - val_acc: 0.9809\n",
            "Epoch 19/50\n",
            "60000/60000 [==============================] - 9s 150us/step - loss: 0.0066 - acc: 0.9991 - val_loss: 0.0665 - val_acc: 0.9801\n",
            "Epoch 20/50\n",
            "60000/60000 [==============================] - 9s 150us/step - loss: 0.0053 - acc: 0.9995 - val_loss: 0.0649 - val_acc: 0.9807\n",
            "Epoch 21/50\n",
            "60000/60000 [==============================] - 9s 150us/step - loss: 0.0040 - acc: 0.9998 - val_loss: 0.0659 - val_acc: 0.9803\n",
            "Epoch 22/50\n",
            "60000/60000 [==============================] - 9s 151us/step - loss: 0.0034 - acc: 0.9998 - val_loss: 0.0667 - val_acc: 0.9807\n",
            "Epoch 23/50\n",
            "60000/60000 [==============================] - 9s 150us/step - loss: 0.0028 - acc: 0.9999 - val_loss: 0.0669 - val_acc: 0.9813\n",
            "Epoch 24/50\n",
            "60000/60000 [==============================] - 9s 150us/step - loss: 0.0025 - acc: 1.0000 - val_loss: 0.0676 - val_acc: 0.9810\n",
            "Epoch 25/50\n",
            "60000/60000 [==============================] - 9s 150us/step - loss: 0.0022 - acc: 1.0000 - val_loss: 0.0675 - val_acc: 0.9815\n",
            "Epoch 26/50\n",
            "60000/60000 [==============================] - 9s 150us/step - loss: 0.0020 - acc: 0.9999 - val_loss: 0.0693 - val_acc: 0.9815\n",
            "Epoch 27/50\n",
            "60000/60000 [==============================] - 9s 150us/step - loss: 0.0018 - acc: 1.0000 - val_loss: 0.0712 - val_acc: 0.9814\n",
            "Epoch 28/50\n",
            "60000/60000 [==============================] - 9s 150us/step - loss: 0.0016 - acc: 1.0000 - val_loss: 0.0707 - val_acc: 0.9812\n",
            "Epoch 29/50\n",
            "60000/60000 [==============================] - 9s 150us/step - loss: 0.0014 - acc: 1.0000 - val_loss: 0.0702 - val_acc: 0.9815\n",
            "Epoch 30/50\n",
            "60000/60000 [==============================] - 9s 150us/step - loss: 0.0012 - acc: 1.0000 - val_loss: 0.0717 - val_acc: 0.9808\n",
            "Epoch 31/50\n",
            "60000/60000 [==============================] - 9s 150us/step - loss: 0.0011 - acc: 1.0000 - val_loss: 0.0726 - val_acc: 0.9811\n",
            "Epoch 32/50\n",
            "60000/60000 [==============================] - 9s 150us/step - loss: 0.0010 - acc: 1.0000 - val_loss: 0.0732 - val_acc: 0.9812\n",
            "Epoch 33/50\n",
            "60000/60000 [==============================] - 9s 151us/step - loss: 9.4309e-04 - acc: 1.0000 - val_loss: 0.0734 - val_acc: 0.9813\n",
            "Epoch 34/50\n",
            "60000/60000 [==============================] - 9s 151us/step - loss: 8.8398e-04 - acc: 1.0000 - val_loss: 0.0742 - val_acc: 0.9812\n",
            "Epoch 35/50\n",
            "60000/60000 [==============================] - 9s 150us/step - loss: 8.2808e-04 - acc: 1.0000 - val_loss: 0.0749 - val_acc: 0.9816\n",
            "Epoch 36/50\n",
            "60000/60000 [==============================] - 9s 150us/step - loss: 7.8237e-04 - acc: 1.0000 - val_loss: 0.0751 - val_acc: 0.9814\n",
            "Epoch 37/50\n",
            "60000/60000 [==============================] - 9s 150us/step - loss: 7.3839e-04 - acc: 1.0000 - val_loss: 0.0754 - val_acc: 0.9813\n",
            "Epoch 38/50\n",
            "60000/60000 [==============================] - 9s 150us/step - loss: 7.0800e-04 - acc: 1.0000 - val_loss: 0.0761 - val_acc: 0.9813\n",
            "Epoch 39/50\n",
            "60000/60000 [==============================] - 9s 151us/step - loss: 6.7981e-04 - acc: 1.0000 - val_loss: 0.0763 - val_acc: 0.9814\n",
            "Epoch 40/50\n",
            "60000/60000 [==============================] - 9s 152us/step - loss: 6.4714e-04 - acc: 1.0000 - val_loss: 0.0768 - val_acc: 0.9816\n",
            "Epoch 41/50\n",
            "60000/60000 [==============================] - 9s 150us/step - loss: 6.1823e-04 - acc: 1.0000 - val_loss: 0.0773 - val_acc: 0.9814\n",
            "Epoch 42/50\n",
            "60000/60000 [==============================] - 9s 151us/step - loss: 5.9849e-04 - acc: 1.0000 - val_loss: 0.0777 - val_acc: 0.9817\n",
            "Epoch 43/50\n",
            "60000/60000 [==============================] - 9s 150us/step - loss: 5.7810e-04 - acc: 1.0000 - val_loss: 0.0782 - val_acc: 0.9821\n",
            "Epoch 44/50\n",
            "60000/60000 [==============================] - 9s 151us/step - loss: 5.6074e-04 - acc: 1.0000 - val_loss: 0.0784 - val_acc: 0.9814\n",
            "Epoch 45/50\n",
            "60000/60000 [==============================] - 9s 150us/step - loss: 5.4070e-04 - acc: 1.0000 - val_loss: 0.0790 - val_acc: 0.9819\n",
            "Epoch 46/50\n",
            "60000/60000 [==============================] - 9s 152us/step - loss: 5.2519e-04 - acc: 1.0000 - val_loss: 0.0791 - val_acc: 0.9817\n",
            "Epoch 47/50\n",
            "60000/60000 [==============================] - 9s 151us/step - loss: 5.0953e-04 - acc: 1.0000 - val_loss: 0.0799 - val_acc: 0.9818\n",
            "Epoch 48/50\n",
            "60000/60000 [==============================] - 9s 151us/step - loss: 4.9716e-04 - acc: 1.0000 - val_loss: 0.0801 - val_acc: 0.9818\n",
            "Epoch 49/50\n",
            "60000/60000 [==============================] - 9s 151us/step - loss: 4.8558e-04 - acc: 1.0000 - val_loss: 0.0804 - val_acc: 0.9816\n",
            "Epoch 50/50\n",
            "60000/60000 [==============================] - 9s 151us/step - loss: 4.7465e-04 - acc: 1.0000 - val_loss: 0.0808 - val_acc: 0.9814\n"
          ],
          "name": "stdout"
        },
        {
          "output_type": "execute_result",
          "data": {
            "text/plain": [
              "<keras.callbacks.History at 0x7f0775cc19e8>"
            ]
          },
          "metadata": {
            "tags": []
          },
          "execution_count": 19
        }
      ]
    },
    {
      "cell_type": "markdown",
      "metadata": {
        "id": "mG5qQNWgQUQo",
        "colab_type": "text"
      },
      "source": [
        ""
      ]
    },
    {
      "cell_type": "code",
      "metadata": {
        "id": "9yCgjtspQYrv",
        "colab_type": "code",
        "outputId": "d6adeab0-0eab-4c4f-fcb7-96d73ea588c6",
        "colab": {
          "base_uri": "https://localhost:8080/",
          "height": 50
        }
      },
      "source": [
        "loss, accuracy = mlp_model.evaluate(x_test, y_test, verbose= 0)\n",
        "print('Test Loss: ', loss)\n",
        "print('Test Accuracy: ', accuracy) "
      ],
      "execution_count": 0,
      "outputs": [
        {
          "output_type": "stream",
          "text": [
            "Test Loss:  0.08082253013303284\n",
            "Test Accuracy:  0.9814\n"
          ],
          "name": "stdout"
        }
      ]
    },
    {
      "cell_type": "code",
      "metadata": {
        "id": "ehgrwSUekg8_",
        "colab_type": "code",
        "colab": {}
      },
      "source": [
        "mlp_model.save('mlp.h5') "
      ],
      "execution_count": 0,
      "outputs": []
    },
    {
      "cell_type": "markdown",
      "metadata": {
        "id": "v_b3noIxlFhk",
        "colab_type": "text"
      },
      "source": [
        "### ***Question 6:***\n",
        "\n",
        "---\n",
        "\n",
        "\n",
        "A. Build basic Convolution neural network on the MNIST Data. "
      ]
    },
    {
      "cell_type": "markdown",
      "metadata": {
        "id": "ALbqPfrIlSMC",
        "colab_type": "text"
      },
      "source": [
        "Reshape the Data: "
      ]
    },
    {
      "cell_type": "code",
      "metadata": {
        "id": "gsMKB7DrlMIU",
        "colab_type": "code",
        "outputId": "fe210720-8b6c-4b7d-9575-f6facd03409f",
        "colab": {
          "base_uri": "https://localhost:8080/",
          "height": 50
        }
      },
      "source": [
        "(x_train, y_train), (x_test, y_test) = mnist.load_data() \n",
        "print('ORIGINAL SHAPE: ', x_train.shape)\n",
        "x_train = x_train.reshape((-1, 28, 28, 1))\n",
        "x_test = x_test.reshape((-1, 28, 28, 1)) \n",
        "print('AFTER RE-SHAPE: ', x_train.shape)"
      ],
      "execution_count": 0,
      "outputs": [
        {
          "output_type": "stream",
          "text": [
            "ORIGINAL SHAPE:  (60000, 28, 28)\n",
            "AFTER RE-SHAPE:  (60000, 28, 28, 1)\n"
          ],
          "name": "stdout"
        }
      ]
    },
    {
      "cell_type": "code",
      "metadata": {
        "id": "rYwN4QIYm39H",
        "colab_type": "code",
        "colab": {}
      },
      "source": [
        "#normalise\n",
        "x_train = x_train/255.0\n",
        "x_test =  x_test/255.0"
      ],
      "execution_count": 0,
      "outputs": []
    },
    {
      "cell_type": "code",
      "metadata": {
        "id": "LmtC3yivnXxr",
        "colab_type": "code",
        "colab": {}
      },
      "source": [
        "#Categorical\n",
        "y_train= tf.keras.utils.to_categorical(y_train, num_classes=10)\n",
        "y_test= tf.keras.utils.to_categorical(y_test, num_classes=10) "
      ],
      "execution_count": 0,
      "outputs": []
    },
    {
      "cell_type": "markdown",
      "metadata": {
        "id": "kxvYQ7_ytXTM",
        "colab_type": "text"
      },
      "source": [
        "1. Conv2D with 32 Neuron; Filter 3,3 ; Activation: Relu ; Stride\n",
        "(1,1)\n",
        "2. MaxPool2D ; Pool Size (2,2)\n",
        "3. Flatten the data again to send to desne layer\n",
        "4. 128 Neuron single Dense Layer with relu\n",
        "5. 10 neuron single dense layer with softmax as output layer"
      ]
    },
    {
      "cell_type": "code",
      "metadata": {
        "id": "4rjZkKrStZVo",
        "colab_type": "code",
        "colab": {}
      },
      "source": [
        "from tensorflow.keras.models import Sequential\n",
        "from tensorflow.keras.layers import Conv2D, MaxPool2D, Flatten, Dense, InputLayer"
      ],
      "execution_count": 0,
      "outputs": []
    },
    {
      "cell_type": "code",
      "metadata": {
        "id": "HOVe0eDqukyE",
        "colab_type": "code",
        "outputId": "3db7f17e-def3-4654-8bb1-7b1b9603300c",
        "colab": {
          "base_uri": "https://localhost:8080/",
          "height": 390
        }
      },
      "source": [
        "conv_model = Sequential()\n",
        "conv_model.add(InputLayer(input_shape = [28,28,1]))\n",
        "conv_model.add(Conv2D(filters= 32, kernel_size= (3,3), strides= (1,1), padding= 'same', activation= 'relu'))\n",
        "conv_model.add(MaxPool2D(pool_size= (2,2)))\n",
        "conv_model.add(Flatten())\n",
        "conv_model.add(Dense(128, activation = 'relu'))\n",
        "conv_model.add(Dense(10, activation= 'softmax'))\n",
        "conv_model.summary()"
      ],
      "execution_count": 0,
      "outputs": [
        {
          "output_type": "stream",
          "text": [
            "WARNING:tensorflow:From /tensorflow-1.15.0/python3.6/tensorflow_core/python/ops/resource_variable_ops.py:1630: calling BaseResourceVariable.__init__ (from tensorflow.python.ops.resource_variable_ops) with constraint is deprecated and will be removed in a future version.\n",
            "Instructions for updating:\n",
            "If using Keras pass *_constraint arguments to layers.\n",
            "Model: \"sequential\"\n",
            "_________________________________________________________________\n",
            "Layer (type)                 Output Shape              Param #   \n",
            "=================================================================\n",
            "conv2d (Conv2D)              (None, 28, 28, 32)        320       \n",
            "_________________________________________________________________\n",
            "max_pooling2d (MaxPooling2D) (None, 14, 14, 32)        0         \n",
            "_________________________________________________________________\n",
            "flatten (Flatten)            (None, 6272)              0         \n",
            "_________________________________________________________________\n",
            "dense (Dense)                (None, 128)               802944    \n",
            "_________________________________________________________________\n",
            "dense_1 (Dense)              (None, 10)                1290      \n",
            "=================================================================\n",
            "Total params: 804,554\n",
            "Trainable params: 804,554\n",
            "Non-trainable params: 0\n",
            "_________________________________________________________________\n"
          ],
          "name": "stdout"
        }
      ]
    },
    {
      "cell_type": "code",
      "metadata": {
        "id": "vjoI-qOuz81d",
        "colab_type": "code",
        "colab": {}
      },
      "source": [
        "conv_model.compile(optimizer = 'rmsprop', loss = 'categorical_crossentropy', \n",
        "              metrics = ['accuracy']) "
      ],
      "execution_count": 0,
      "outputs": []
    },
    {
      "cell_type": "code",
      "metadata": {
        "id": "uyw0u2SI0F1D",
        "colab_type": "code",
        "outputId": "3cea5f43-0889-4c82-b3fa-cf27de029518",
        "colab": {
          "base_uri": "https://localhost:8080/",
          "height": 1000
        }
      },
      "source": [
        "conv_model.fit(x_train, y_train, batch_size = 5000, \n",
        "          epochs = 50, validation_data = (x_test, y_test)) "
      ],
      "execution_count": 0,
      "outputs": [
        {
          "output_type": "stream",
          "text": [
            "Train on 60000 samples, validate on 10000 samples\n",
            "Epoch 1/50\n",
            "60000/60000 [==============================] - 26s 433us/sample - loss: 1.1890 - acc: 0.6556 - val_loss: 0.5615 - val_acc: 0.8492\n",
            "Epoch 2/50\n",
            "60000/60000 [==============================] - 24s 407us/sample - loss: 0.5008 - acc: 0.8538 - val_loss: 0.3986 - val_acc: 0.8879\n",
            "Epoch 3/50\n",
            "60000/60000 [==============================] - 24s 408us/sample - loss: 0.3720 - acc: 0.8894 - val_loss: 0.3581 - val_acc: 0.8923\n",
            "Epoch 4/50\n",
            "60000/60000 [==============================] - 24s 406us/sample - loss: 0.3004 - acc: 0.9117 - val_loss: 0.3321 - val_acc: 0.8869\n",
            "Epoch 5/50\n",
            "60000/60000 [==============================] - 24s 408us/sample - loss: 0.2710 - acc: 0.9186 - val_loss: 0.3272 - val_acc: 0.8979\n",
            "Epoch 6/50\n",
            "60000/60000 [==============================] - 24s 407us/sample - loss: 0.2274 - acc: 0.9326 - val_loss: 0.2315 - val_acc: 0.9302\n",
            "Epoch 7/50\n",
            "60000/60000 [==============================] - 24s 406us/sample - loss: 0.2155 - acc: 0.9352 - val_loss: 0.1835 - val_acc: 0.9450\n",
            "Epoch 8/50\n",
            "60000/60000 [==============================] - 25s 409us/sample - loss: 0.1785 - acc: 0.9486 - val_loss: 0.2133 - val_acc: 0.9313\n",
            "Epoch 9/50\n",
            "60000/60000 [==============================] - 24s 406us/sample - loss: 0.1649 - acc: 0.9511 - val_loss: 0.1635 - val_acc: 0.9515\n",
            "Epoch 10/50\n",
            "60000/60000 [==============================] - 24s 408us/sample - loss: 0.1488 - acc: 0.9574 - val_loss: 0.1311 - val_acc: 0.9613\n",
            "Epoch 11/50\n",
            "60000/60000 [==============================] - 24s 406us/sample - loss: 0.1365 - acc: 0.9607 - val_loss: 0.1173 - val_acc: 0.9667\n",
            "Epoch 12/50\n",
            "60000/60000 [==============================] - 24s 406us/sample - loss: 0.1216 - acc: 0.9646 - val_loss: 0.1111 - val_acc: 0.9661\n",
            "Epoch 13/50\n",
            "60000/60000 [==============================] - 24s 407us/sample - loss: 0.1141 - acc: 0.9670 - val_loss: 0.0996 - val_acc: 0.9717\n",
            "Epoch 14/50\n",
            "60000/60000 [==============================] - 24s 406us/sample - loss: 0.1063 - acc: 0.9688 - val_loss: 0.0926 - val_acc: 0.9718\n",
            "Epoch 15/50\n",
            "60000/60000 [==============================] - 24s 407us/sample - loss: 0.0970 - acc: 0.9729 - val_loss: 0.0851 - val_acc: 0.9740\n",
            "Epoch 16/50\n",
            "60000/60000 [==============================] - 24s 408us/sample - loss: 0.0908 - acc: 0.9740 - val_loss: 0.0801 - val_acc: 0.9758\n",
            "Epoch 17/50\n",
            "60000/60000 [==============================] - 24s 405us/sample - loss: 0.0855 - acc: 0.9754 - val_loss: 0.0893 - val_acc: 0.9715\n",
            "Epoch 18/50\n",
            "60000/60000 [==============================] - 24s 404us/sample - loss: 0.0785 - acc: 0.9772 - val_loss: 0.0797 - val_acc: 0.9747\n",
            "Epoch 19/50\n",
            "60000/60000 [==============================] - 24s 406us/sample - loss: 0.0682 - acc: 0.9808 - val_loss: 0.0828 - val_acc: 0.9735\n",
            "Epoch 20/50\n",
            "60000/60000 [==============================] - 24s 407us/sample - loss: 0.0733 - acc: 0.9789 - val_loss: 0.0679 - val_acc: 0.9783\n",
            "Epoch 21/50\n",
            "60000/60000 [==============================] - 25s 409us/sample - loss: 0.0623 - acc: 0.9823 - val_loss: 0.0679 - val_acc: 0.9778\n",
            "Epoch 22/50\n",
            "60000/60000 [==============================] - 24s 406us/sample - loss: 0.0641 - acc: 0.9815 - val_loss: 0.0731 - val_acc: 0.9759\n",
            "Epoch 23/50\n",
            "60000/60000 [==============================] - 24s 405us/sample - loss: 0.0557 - acc: 0.9844 - val_loss: 0.0779 - val_acc: 0.9755\n",
            "Epoch 24/50\n",
            "60000/60000 [==============================] - 24s 404us/sample - loss: 0.0563 - acc: 0.9839 - val_loss: 0.0631 - val_acc: 0.9791\n",
            "Epoch 25/50\n",
            "60000/60000 [==============================] - 24s 407us/sample - loss: 0.0538 - acc: 0.9844 - val_loss: 0.0578 - val_acc: 0.9813\n",
            "Epoch 26/50\n",
            "60000/60000 [==============================] - 24s 406us/sample - loss: 0.0496 - acc: 0.9858 - val_loss: 0.0592 - val_acc: 0.9811\n",
            "Epoch 27/50\n",
            "60000/60000 [==============================] - 24s 406us/sample - loss: 0.0445 - acc: 0.9876 - val_loss: 0.0554 - val_acc: 0.9816\n",
            "Epoch 28/50\n",
            "60000/60000 [==============================] - 24s 405us/sample - loss: 0.0471 - acc: 0.9862 - val_loss: 0.0652 - val_acc: 0.9791\n",
            "Epoch 29/50\n",
            "60000/60000 [==============================] - 24s 408us/sample - loss: 0.0439 - acc: 0.9873 - val_loss: 0.0500 - val_acc: 0.9832\n",
            "Epoch 30/50\n",
            "60000/60000 [==============================] - 26s 431us/sample - loss: 0.0373 - acc: 0.9898 - val_loss: 0.0488 - val_acc: 0.9841\n",
            "Epoch 31/50\n",
            "60000/60000 [==============================] - 24s 405us/sample - loss: 0.0435 - acc: 0.9872 - val_loss: 0.0506 - val_acc: 0.9842\n",
            "Epoch 32/50\n",
            "60000/60000 [==============================] - 24s 406us/sample - loss: 0.0326 - acc: 0.9913 - val_loss: 0.0482 - val_acc: 0.9841\n",
            "Epoch 33/50\n",
            "60000/60000 [==============================] - 24s 405us/sample - loss: 0.0338 - acc: 0.9903 - val_loss: 0.0496 - val_acc: 0.9836\n",
            "Epoch 34/50\n",
            "60000/60000 [==============================] - 24s 406us/sample - loss: 0.0338 - acc: 0.9901 - val_loss: 0.0519 - val_acc: 0.9837\n",
            "Epoch 35/50\n",
            "60000/60000 [==============================] - 24s 403us/sample - loss: 0.0318 - acc: 0.9910 - val_loss: 0.0640 - val_acc: 0.9798\n",
            "Epoch 36/50\n",
            "60000/60000 [==============================] - 24s 403us/sample - loss: 0.0318 - acc: 0.9909 - val_loss: 0.0551 - val_acc: 0.9810\n",
            "Epoch 37/50\n",
            "60000/60000 [==============================] - 24s 404us/sample - loss: 0.0275 - acc: 0.9925 - val_loss: 0.0527 - val_acc: 0.9824\n",
            "Epoch 38/50\n",
            "60000/60000 [==============================] - 24s 405us/sample - loss: 0.0305 - acc: 0.9911 - val_loss: 0.0507 - val_acc: 0.9827\n",
            "Epoch 39/50\n",
            "60000/60000 [==============================] - 24s 402us/sample - loss: 0.0259 - acc: 0.9928 - val_loss: 0.0442 - val_acc: 0.9853\n",
            "Epoch 40/50\n",
            "60000/60000 [==============================] - 24s 406us/sample - loss: 0.0251 - acc: 0.9931 - val_loss: 0.0524 - val_acc: 0.9822\n",
            "Epoch 41/50\n",
            "60000/60000 [==============================] - 24s 405us/sample - loss: 0.0240 - acc: 0.9935 - val_loss: 0.0472 - val_acc: 0.9848\n",
            "Epoch 42/50\n",
            "60000/60000 [==============================] - 24s 404us/sample - loss: 0.0261 - acc: 0.9926 - val_loss: 0.0408 - val_acc: 0.9861\n",
            "Epoch 43/50\n",
            "60000/60000 [==============================] - 24s 404us/sample - loss: 0.0198 - acc: 0.9949 - val_loss: 0.0650 - val_acc: 0.9779\n",
            "Epoch 44/50\n",
            "60000/60000 [==============================] - 24s 403us/sample - loss: 0.0246 - acc: 0.9931 - val_loss: 0.0437 - val_acc: 0.9861\n",
            "Epoch 45/50\n",
            "60000/60000 [==============================] - 24s 405us/sample - loss: 0.0222 - acc: 0.9937 - val_loss: 0.0448 - val_acc: 0.9851\n",
            "Epoch 46/50\n",
            "60000/60000 [==============================] - 24s 407us/sample - loss: 0.0181 - acc: 0.9953 - val_loss: 0.0551 - val_acc: 0.9819\n",
            "Epoch 47/50\n",
            "60000/60000 [==============================] - 24s 406us/sample - loss: 0.0190 - acc: 0.9948 - val_loss: 0.0590 - val_acc: 0.9804\n",
            "Epoch 48/50\n",
            "60000/60000 [==============================] - 24s 403us/sample - loss: 0.0183 - acc: 0.9952 - val_loss: 0.0436 - val_acc: 0.9861\n",
            "Epoch 49/50\n",
            "60000/60000 [==============================] - 24s 402us/sample - loss: 0.0177 - acc: 0.9950 - val_loss: 0.0481 - val_acc: 0.9862\n",
            "Epoch 50/50\n",
            "60000/60000 [==============================] - 24s 405us/sample - loss: 0.0150 - acc: 0.9966 - val_loss: 0.0628 - val_acc: 0.9805\n"
          ],
          "name": "stdout"
        },
        {
          "output_type": "execute_result",
          "data": {
            "text/plain": [
              "<tensorflow.python.keras.callbacks.History at 0x7f0768895dd8>"
            ]
          },
          "metadata": {
            "tags": []
          },
          "execution_count": 34
        }
      ]
    },
    {
      "cell_type": "markdown",
      "metadata": {
        "id": "DrBsInc91kcF",
        "colab_type": "text"
      },
      "source": [
        "SAVE THE MODEL AS .json, .h5"
      ]
    },
    {
      "cell_type": "code",
      "metadata": {
        "id": "2e8lgSfH1e16",
        "colab_type": "code",
        "colab": {}
      },
      "source": [
        "from tensorflow.keras.models import model_from_json\n",
        "\n",
        "model_json = conv_model.to_json()\n",
        "with open('model.json', 'w') as json_file:\n",
        "    json_file.write(model_json)\n",
        "\n",
        "conv_model.save_weights('model.h5')"
      ],
      "execution_count": 0,
      "outputs": []
    },
    {
      "cell_type": "code",
      "metadata": {
        "id": "0sIiTRG2BQ0v",
        "colab_type": "code",
        "colab": {}
      },
      "source": [
        "conv_model.save('conv_model.h5')"
      ],
      "execution_count": 0,
      "outputs": []
    },
    {
      "cell_type": "markdown",
      "metadata": {
        "id": "5m5OuQVw1qnv",
        "colab_type": "text"
      },
      "source": [
        "LOAD THE MODEL"
      ]
    },
    {
      "cell_type": "code",
      "metadata": {
        "id": "iyt8CjnP1tvE",
        "colab_type": "code",
        "colab": {}
      },
      "source": [
        "json_file = open('model.json', 'r')\n",
        "loaded_model_json= json_file.read()\n",
        "json_file.close()\n",
        "\n",
        "loaded_model = model_from_json(loaded_model_json)\n",
        "loaded_model.load_weights('model.h5')\n",
        "loaded_model.compile(optimizer = 'rmsprop', loss = 'categorical_crossentropy', \n",
        "              metrics = ['accuracy'])"
      ],
      "execution_count": 0,
      "outputs": []
    },
    {
      "cell_type": "markdown",
      "metadata": {
        "id": "oQt5KTXAC8rm",
        "colab_type": "text"
      },
      "source": [
        "LOSS AND ACCURACY"
      ]
    },
    {
      "cell_type": "code",
      "metadata": {
        "id": "z-nMOP4VC78N",
        "colab_type": "code",
        "outputId": "86640db9-30cd-46dd-a4e4-fb4437618ffd",
        "colab": {
          "base_uri": "https://localhost:8080/",
          "height": 50
        }
      },
      "source": [
        "loss, accuracy = loaded_model.evaluate(x_test, y_test, verbose = 0)\n",
        "print('Test Loss: ', loss)\n",
        "print('Test Accuracy: ', accuracy) "
      ],
      "execution_count": 0,
      "outputs": [
        {
          "output_type": "stream",
          "text": [
            "Test Loss:  0.06279286134364083\n",
            "Test Accuracy:  0.9805\n"
          ],
          "name": "stdout"
        }
      ]
    },
    {
      "cell_type": "markdown",
      "metadata": {
        "id": "-mnU6GQbOZRe",
        "colab_type": "text"
      },
      "source": [
        "### ***Hence for MNIST Dataset even simple MLP is effective***"
      ]
    }
  ]
}